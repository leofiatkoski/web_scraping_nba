{
 "cells": [
  {
   "cell_type": "markdown",
   "metadata": {},
   "source": [
    "## Definição do Problema\n",
    "\n",
    "A Ciência de Dados está em todos os lugares. Se há dados disponíveis, podemos extrair, analisar e gerar insights poderosos. E no esporte não seria diferente.\n",
    "\n",
    "Cada vez mais gestores de todos os esportes descobrem os benefícios e vantagem competitiva em usar análise de dados para compreender o comportamento dos atletas, melhorar o desempenho, unir atletas com características complementares no mesmo time e muito mais.\n",
    "\n",
    "Neste Lab, vamos extrair dados reais de atletas da NBA - a Liga de Basquete Norte Americana - e analisar os dados."
   ]
  },
  {
   "cell_type": "markdown",
   "metadata": {},
   "source": [
    "## Fonte de Dados\n",
    "\n",
    "Nossa fonte de dados será o site <a href=\"https://www.basketball-reference.com\">Bastketball Reference</a> que mantém todos os detalhes e estatísticas sobre a NBA."
   ]
  },
  {
   "cell_type": "markdown",
   "metadata": {},
   "source": [
    "## Carregando os Pacotes Usados Neste Jupyter Notebook"
   ]
  },
  {
   "cell_type": "code",
   "execution_count": 1,
   "metadata": {},
   "outputs": [],
   "source": [
    "# Imports para Web Scraping\n",
    "import bs4\n",
    "import csv \n",
    "import requests \n",
    "from bs4 import BeautifulSoup\n",
    "\n",
    "# Imports para manipulação, visualização e análise de dados\n",
    "import pandas as pd\n",
    "import seaborn as sns\n",
    "import matplotlib.pyplot as plt\n",
    "import pingouin as pg"
   ]
  },
  {
   "cell_type": "markdown",
   "metadata": {},
   "source": [
    "## Web Scraping"
   ]
  },
  {
   "cell_type": "code",
   "execution_count": null,
   "metadata": {},
   "outputs": [],
   "source": [
    "# Criamos um arquivo para salvar o resultado do web scraping\n",
    "arquivo = csv.writer(open('dados/nba.csv', 'w', encoding = \"utf-8\")) "
   ]
  },
  {
   "cell_type": "code",
   "execution_count": null,
   "metadata": {},
   "outputs": [],
   "source": [
    "# Fazemos requisição à página web com os dados do nosso interesse, nesse caso temporada 2019/2020\n",
    "pagina = requests.get(\"https://www.basketball-reference.com/leagues/NBA_2020_per_game.html\")"
   ]
  },
  {
   "cell_type": "code",
   "execution_count": null,
   "metadata": {},
   "outputs": [],
   "source": [
    "# Requisição 200 indica sucesso na conexão, enquanto a requisição 400 indica falha na conexão.\n",
    "pagina"
   ]
  },
  {
   "cell_type": "markdown",
   "metadata": {},
   "source": [
    "Visualizamos o conteúdo da pagina:"
   ]
  },
  {
   "cell_type": "code",
   "execution_count": null,
   "metadata": {},
   "outputs": [],
   "source": [
    "# Visualiza os dados\n",
    "pagina.text[:5000]"
   ]
  },
  {
   "cell_type": "code",
   "execution_count": null,
   "metadata": {},
   "outputs": [],
   "source": [
    "# Vamos fazer o parser na página HTML para formatar o texto\n",
    "soup = BeautifulSoup(pagina.text, 'html.parser')"
   ]
  },
  {
   "cell_type": "code",
   "execution_count": null,
   "metadata": {},
   "outputs": [],
   "source": [
    "# Visualiza o documento agora no padrão HTML (código fonte da página)\n",
    "soup"
   ]
  },
  {
   "cell_type": "markdown",
   "metadata": {},
   "source": [
    "Mas os dados que nos interessam estão em uma tag div, class do tipo table_container. Vamos pesquisar e então extrair os dados."
   ]
  },
  {
   "cell_type": "code",
   "execution_count": null,
   "metadata": {},
   "outputs": [],
   "source": [
    "# Busca pelo tag e classe na página HTML\n",
    "tabela = soup.find(\"div\", {\"class\": \"overthrow table_container\"})"
   ]
  },
  {
   "cell_type": "code",
   "execution_count": null,
   "metadata": {},
   "outputs": [],
   "source": [
    "# Visualiza os dados\n",
    "tabela"
   ]
  },
  {
   "cell_type": "markdown",
   "metadata": {},
   "source": [
    "Estamos quase lá. Na tabela, buscamos pelo termo thead a fim de extrair a \"cabeça\" da tabela, ou seja, o cabeçalho."
   ]
  },
  {
   "cell_type": "code",
   "execution_count": null,
   "metadata": {},
   "outputs": [],
   "source": [
    "# Extrai o cabeçalho da tabela (título de cada coluna) e gravamos no arquivo\n",
    "header = tabela.find(\"thead\")\n",
    "header_elements = header.find_all(\"th\")\n",
    "header_elements = [head.text for head in header_elements[1:]]\n",
    "arquivo.writerow(header_elements)"
   ]
  },
  {
   "cell_type": "code",
   "execution_count": null,
   "metadata": {},
   "outputs": [],
   "source": [
    "# Visualiza os dados\n",
    "header"
   ]
  },
  {
   "cell_type": "markdown",
   "metadata": {},
   "source": [
    "Podemos então extrair os elementos de cada linha. Buscamos pela tag tr e class full_tabel."
   ]
  },
  {
   "cell_type": "code",
   "execution_count": null,
   "metadata": {},
   "outputs": [],
   "source": [
    "# Extrai elementos de cada linha da tabela\n",
    "elementos_linha = tabela.find_all(\"tr\", {\"class\": \"full_table\"})"
   ]
  },
  {
   "cell_type": "code",
   "execution_count": null,
   "metadata": {},
   "outputs": [],
   "source": [
    "# Temos agora cada tag tr, que indicam linhas da tabela\n",
    "elementos_linha"
   ]
  },
  {
   "cell_type": "code",
   "execution_count": null,
   "metadata": {},
   "outputs": [],
   "source": [
    "# Extraímos o conteúdo de cada linha e gravamos no arquivo em disco\n",
    "for row in elementos_linha:\n",
    "    data_elements = row.find_all(\"td\")\n",
    "    data_elements = [data.text for data in data_elements]\n",
    "    arquivo.writerow(data_elements)"
   ]
  },
  {
   "cell_type": "markdown",
   "metadata": {},
   "source": [
    "Web Scraping concluído. Vamos analisar os dados."
   ]
  },
  {
   "cell_type": "markdown",
   "metadata": {},
   "source": [
    "## Carregando e Analisando os Dados"
   ]
  },
  {
   "cell_type": "code",
   "execution_count": 2,
   "metadata": {},
   "outputs": [],
   "source": [
    "# Carrega o arquivo csv com o conteúdo do web scraping\n",
    "df_nba = pd.read_csv('dados/nba.csv')"
   ]
  },
  {
   "cell_type": "code",
   "execution_count": 3,
   "metadata": {},
   "outputs": [
    {
     "data": {
      "text/plain": [
       "(529, 29)"
      ]
     },
     "execution_count": 3,
     "metadata": {},
     "output_type": "execute_result"
    }
   ],
   "source": [
    "# Shape\n",
    "df_nba.shape"
   ]
  },
  {
   "cell_type": "code",
   "execution_count": 4,
   "metadata": {},
   "outputs": [
    {
     "data": {
      "text/html": [
       "<div>\n",
       "<style scoped>\n",
       "    .dataframe tbody tr th:only-of-type {\n",
       "        vertical-align: middle;\n",
       "    }\n",
       "\n",
       "    .dataframe tbody tr th {\n",
       "        vertical-align: top;\n",
       "    }\n",
       "\n",
       "    .dataframe thead th {\n",
       "        text-align: right;\n",
       "    }\n",
       "</style>\n",
       "<table border=\"1\" class=\"dataframe\">\n",
       "  <thead>\n",
       "    <tr style=\"text-align: right;\">\n",
       "      <th></th>\n",
       "      <th>Player</th>\n",
       "      <th>Pos</th>\n",
       "      <th>Age</th>\n",
       "      <th>Tm</th>\n",
       "      <th>G</th>\n",
       "      <th>GS</th>\n",
       "      <th>MP</th>\n",
       "      <th>FG</th>\n",
       "      <th>FGA</th>\n",
       "      <th>FG%</th>\n",
       "      <th>...</th>\n",
       "      <th>FT%</th>\n",
       "      <th>ORB</th>\n",
       "      <th>DRB</th>\n",
       "      <th>TRB</th>\n",
       "      <th>AST</th>\n",
       "      <th>STL</th>\n",
       "      <th>BLK</th>\n",
       "      <th>TOV</th>\n",
       "      <th>PF</th>\n",
       "      <th>PTS</th>\n",
       "    </tr>\n",
       "  </thead>\n",
       "  <tbody>\n",
       "    <tr>\n",
       "      <th>170</th>\n",
       "      <td>Rudy Gay</td>\n",
       "      <td>PF</td>\n",
       "      <td>33</td>\n",
       "      <td>SAS</td>\n",
       "      <td>67</td>\n",
       "      <td>5</td>\n",
       "      <td>21.8</td>\n",
       "      <td>4.0</td>\n",
       "      <td>8.9</td>\n",
       "      <td>0.446</td>\n",
       "      <td>...</td>\n",
       "      <td>0.882</td>\n",
       "      <td>0.9</td>\n",
       "      <td>4.5</td>\n",
       "      <td>5.4</td>\n",
       "      <td>1.7</td>\n",
       "      <td>0.5</td>\n",
       "      <td>0.5</td>\n",
       "      <td>1.3</td>\n",
       "      <td>1.5</td>\n",
       "      <td>10.8</td>\n",
       "    </tr>\n",
       "    <tr>\n",
       "      <th>117</th>\n",
       "      <td>Jae Crowder</td>\n",
       "      <td>SF</td>\n",
       "      <td>29</td>\n",
       "      <td>TOT</td>\n",
       "      <td>65</td>\n",
       "      <td>53</td>\n",
       "      <td>28.8</td>\n",
       "      <td>3.5</td>\n",
       "      <td>8.7</td>\n",
       "      <td>0.401</td>\n",
       "      <td>...</td>\n",
       "      <td>0.776</td>\n",
       "      <td>0.8</td>\n",
       "      <td>5.1</td>\n",
       "      <td>5.9</td>\n",
       "      <td>2.5</td>\n",
       "      <td>1.1</td>\n",
       "      <td>0.4</td>\n",
       "      <td>1.1</td>\n",
       "      <td>2.2</td>\n",
       "      <td>10.5</td>\n",
       "    </tr>\n",
       "    <tr>\n",
       "      <th>189</th>\n",
       "      <td>Blake Griffin</td>\n",
       "      <td>PF</td>\n",
       "      <td>30</td>\n",
       "      <td>DET</td>\n",
       "      <td>18</td>\n",
       "      <td>18</td>\n",
       "      <td>28.4</td>\n",
       "      <td>4.9</td>\n",
       "      <td>13.9</td>\n",
       "      <td>0.352</td>\n",
       "      <td>...</td>\n",
       "      <td>0.776</td>\n",
       "      <td>0.9</td>\n",
       "      <td>3.7</td>\n",
       "      <td>4.7</td>\n",
       "      <td>3.3</td>\n",
       "      <td>0.4</td>\n",
       "      <td>0.4</td>\n",
       "      <td>2.2</td>\n",
       "      <td>1.5</td>\n",
       "      <td>15.5</td>\n",
       "    </tr>\n",
       "    <tr>\n",
       "      <th>394</th>\n",
       "      <td>Justin Patton</td>\n",
       "      <td>C</td>\n",
       "      <td>22</td>\n",
       "      <td>OKC</td>\n",
       "      <td>5</td>\n",
       "      <td>0</td>\n",
       "      <td>4.8</td>\n",
       "      <td>0.8</td>\n",
       "      <td>2.0</td>\n",
       "      <td>0.400</td>\n",
       "      <td>...</td>\n",
       "      <td>NaN</td>\n",
       "      <td>0.2</td>\n",
       "      <td>0.8</td>\n",
       "      <td>1.0</td>\n",
       "      <td>0.4</td>\n",
       "      <td>0.0</td>\n",
       "      <td>0.0</td>\n",
       "      <td>0.4</td>\n",
       "      <td>0.8</td>\n",
       "      <td>1.8</td>\n",
       "    </tr>\n",
       "    <tr>\n",
       "      <th>273</th>\n",
       "      <td>Maxi Kleber</td>\n",
       "      <td>C</td>\n",
       "      <td>28</td>\n",
       "      <td>DAL</td>\n",
       "      <td>74</td>\n",
       "      <td>21</td>\n",
       "      <td>25.5</td>\n",
       "      <td>3.2</td>\n",
       "      <td>6.9</td>\n",
       "      <td>0.461</td>\n",
       "      <td>...</td>\n",
       "      <td>0.849</td>\n",
       "      <td>1.5</td>\n",
       "      <td>3.7</td>\n",
       "      <td>5.2</td>\n",
       "      <td>1.2</td>\n",
       "      <td>0.3</td>\n",
       "      <td>1.1</td>\n",
       "      <td>0.8</td>\n",
       "      <td>2.4</td>\n",
       "      <td>9.1</td>\n",
       "    </tr>\n",
       "    <tr>\n",
       "      <th>56</th>\n",
       "      <td>Brian Bowen</td>\n",
       "      <td>SG</td>\n",
       "      <td>21</td>\n",
       "      <td>IND</td>\n",
       "      <td>6</td>\n",
       "      <td>1</td>\n",
       "      <td>5.2</td>\n",
       "      <td>0.5</td>\n",
       "      <td>1.7</td>\n",
       "      <td>0.300</td>\n",
       "      <td>...</td>\n",
       "      <td>NaN</td>\n",
       "      <td>0.2</td>\n",
       "      <td>1.0</td>\n",
       "      <td>1.2</td>\n",
       "      <td>0.0</td>\n",
       "      <td>0.0</td>\n",
       "      <td>0.2</td>\n",
       "      <td>0.2</td>\n",
       "      <td>0.5</td>\n",
       "      <td>1.0</td>\n",
       "    </tr>\n",
       "    <tr>\n",
       "      <th>431</th>\n",
       "      <td>Terry Rozier</td>\n",
       "      <td>PG</td>\n",
       "      <td>25</td>\n",
       "      <td>CHO</td>\n",
       "      <td>63</td>\n",
       "      <td>63</td>\n",
       "      <td>34.3</td>\n",
       "      <td>6.3</td>\n",
       "      <td>14.9</td>\n",
       "      <td>0.423</td>\n",
       "      <td>...</td>\n",
       "      <td>0.874</td>\n",
       "      <td>0.8</td>\n",
       "      <td>3.6</td>\n",
       "      <td>4.4</td>\n",
       "      <td>4.1</td>\n",
       "      <td>1.0</td>\n",
       "      <td>0.2</td>\n",
       "      <td>2.2</td>\n",
       "      <td>2.0</td>\n",
       "      <td>18.0</td>\n",
       "    </tr>\n",
       "    <tr>\n",
       "      <th>69</th>\n",
       "      <td>Bruce Brown</td>\n",
       "      <td>SG</td>\n",
       "      <td>23</td>\n",
       "      <td>DET</td>\n",
       "      <td>58</td>\n",
       "      <td>43</td>\n",
       "      <td>28.2</td>\n",
       "      <td>3.4</td>\n",
       "      <td>7.7</td>\n",
       "      <td>0.443</td>\n",
       "      <td>...</td>\n",
       "      <td>0.739</td>\n",
       "      <td>1.1</td>\n",
       "      <td>3.7</td>\n",
       "      <td>4.7</td>\n",
       "      <td>4.0</td>\n",
       "      <td>1.1</td>\n",
       "      <td>0.5</td>\n",
       "      <td>1.7</td>\n",
       "      <td>2.8</td>\n",
       "      <td>8.9</td>\n",
       "    </tr>\n",
       "    <tr>\n",
       "      <th>236</th>\n",
       "      <td>Andre Iguodala</td>\n",
       "      <td>SG</td>\n",
       "      <td>36</td>\n",
       "      <td>MIA</td>\n",
       "      <td>21</td>\n",
       "      <td>0</td>\n",
       "      <td>19.9</td>\n",
       "      <td>1.8</td>\n",
       "      <td>4.2</td>\n",
       "      <td>0.432</td>\n",
       "      <td>...</td>\n",
       "      <td>0.400</td>\n",
       "      <td>0.8</td>\n",
       "      <td>2.9</td>\n",
       "      <td>3.7</td>\n",
       "      <td>2.4</td>\n",
       "      <td>0.7</td>\n",
       "      <td>1.0</td>\n",
       "      <td>1.2</td>\n",
       "      <td>1.7</td>\n",
       "      <td>4.6</td>\n",
       "    </tr>\n",
       "    <tr>\n",
       "      <th>83</th>\n",
       "      <td>Devontae Cacok</td>\n",
       "      <td>C</td>\n",
       "      <td>23</td>\n",
       "      <td>LAL</td>\n",
       "      <td>1</td>\n",
       "      <td>0</td>\n",
       "      <td>9.0</td>\n",
       "      <td>3.0</td>\n",
       "      <td>6.0</td>\n",
       "      <td>0.500</td>\n",
       "      <td>...</td>\n",
       "      <td>NaN</td>\n",
       "      <td>2.0</td>\n",
       "      <td>3.0</td>\n",
       "      <td>5.0</td>\n",
       "      <td>1.0</td>\n",
       "      <td>0.0</td>\n",
       "      <td>0.0</td>\n",
       "      <td>0.0</td>\n",
       "      <td>0.0</td>\n",
       "      <td>6.0</td>\n",
       "    </tr>\n",
       "  </tbody>\n",
       "</table>\n",
       "<p>10 rows × 29 columns</p>\n",
       "</div>"
      ],
      "text/plain": [
       "             Player Pos  Age   Tm   G  GS    MP   FG   FGA    FG%  ...    FT%  \\\n",
       "170        Rudy Gay  PF   33  SAS  67   5  21.8  4.0   8.9  0.446  ...  0.882   \n",
       "117     Jae Crowder  SF   29  TOT  65  53  28.8  3.5   8.7  0.401  ...  0.776   \n",
       "189   Blake Griffin  PF   30  DET  18  18  28.4  4.9  13.9  0.352  ...  0.776   \n",
       "394   Justin Patton   C   22  OKC   5   0   4.8  0.8   2.0  0.400  ...    NaN   \n",
       "273     Maxi Kleber   C   28  DAL  74  21  25.5  3.2   6.9  0.461  ...  0.849   \n",
       "56      Brian Bowen  SG   21  IND   6   1   5.2  0.5   1.7  0.300  ...    NaN   \n",
       "431    Terry Rozier  PG   25  CHO  63  63  34.3  6.3  14.9  0.423  ...  0.874   \n",
       "69      Bruce Brown  SG   23  DET  58  43  28.2  3.4   7.7  0.443  ...  0.739   \n",
       "236  Andre Iguodala  SG   36  MIA  21   0  19.9  1.8   4.2  0.432  ...  0.400   \n",
       "83   Devontae Cacok   C   23  LAL   1   0   9.0  3.0   6.0  0.500  ...    NaN   \n",
       "\n",
       "     ORB  DRB  TRB  AST  STL  BLK  TOV   PF   PTS  \n",
       "170  0.9  4.5  5.4  1.7  0.5  0.5  1.3  1.5  10.8  \n",
       "117  0.8  5.1  5.9  2.5  1.1  0.4  1.1  2.2  10.5  \n",
       "189  0.9  3.7  4.7  3.3  0.4  0.4  2.2  1.5  15.5  \n",
       "394  0.2  0.8  1.0  0.4  0.0  0.0  0.4  0.8   1.8  \n",
       "273  1.5  3.7  5.2  1.2  0.3  1.1  0.8  2.4   9.1  \n",
       "56   0.2  1.0  1.2  0.0  0.0  0.2  0.2  0.5   1.0  \n",
       "431  0.8  3.6  4.4  4.1  1.0  0.2  2.2  2.0  18.0  \n",
       "69   1.1  3.7  4.7  4.0  1.1  0.5  1.7  2.8   8.9  \n",
       "236  0.8  2.9  3.7  2.4  0.7  1.0  1.2  1.7   4.6  \n",
       "83   2.0  3.0  5.0  1.0  0.0  0.0  0.0  0.0   6.0  \n",
       "\n",
       "[10 rows x 29 columns]"
      ]
     },
     "execution_count": 4,
     "metadata": {},
     "output_type": "execute_result"
    }
   ],
   "source": [
    "# Visualiza uma amostra dos dados\n",
    "df_nba.sample(10)"
   ]
  },
  {
   "cell_type": "markdown",
   "metadata": {},
   "source": [
    "**Dicionário de Dados** (conforme mostrado na fonte de dados):\n",
    "\n",
    "- Rk -- Rank\n",
    "- Pos -- Position\n",
    "- Age -- Player's age on February 1 of the season\n",
    "- Tm -- Team\n",
    "- G -- Games\n",
    "- GS -- Games Started\n",
    "- MP -- Minutes Played Per Game\n",
    "- FG -- Field Goals Per Game\n",
    "- FGA -- Field Goal Attempts Per Game\n",
    "- FG% -- Field Goal Percentage\n",
    "- 3P -- 3-Point Field Goals Per Game\n",
    "- 3PA -- 3-Point Field Goal Attempts Per Game\n",
    "- 3P% -- 3-Point Field Goal Percentage\n",
    "- 2P -- 2-Point Field Goals Per Game\n",
    "- 2PA -- 2-Point Field Goal Attempts Per Game\n",
    "- 2P% -- 2-Point Field Goal Percentage\n",
    "- eFG% -- Effective Field Goal Percentage\n",
    "\n",
    "This statistic adjusts for the fact that a 3-point field goal is worth one more point than a 2-point field goal.\n",
    "\n",
    "- FT -- Free Throws Per Game\n",
    "- FTA -- Free Throw Attempts Per Game\n",
    "- FT% -- Free Throw Percentage\n",
    "- ORB -- Offensive Rebounds Per Game\n",
    "- DRB -- Defensive Rebounds Per Game\n",
    "- TRB -- Total Rebounds Per Game\n",
    "- AST -- Assists Per Game\n",
    "- STL -- Steals Per Game\n",
    "- BLK -- Blocks Per Game\n",
    "- TOV -- Turnovers Per Game\n",
    "- PF -- Personal Fouls Per Game\n",
    "- PTS -- Points Per Game"
   ]
  },
  {
   "cell_type": "markdown",
   "metadata": {},
   "source": [
    "### Qual a idade média dos jogadores que disputaram a temporada 2019/2020 da NBA?"
   ]
  },
  {
   "cell_type": "code",
   "execution_count": 5,
   "metadata": {},
   "outputs": [
    {
     "data": {
      "text/plain": [
       "25.561436672967865"
      ]
     },
     "execution_count": 5,
     "metadata": {},
     "output_type": "execute_result"
    }
   ],
   "source": [
    "# Idade média dos jogadores\n",
    "df_nba['Age'].mean()"
   ]
  },
  {
   "cell_type": "markdown",
   "metadata": {},
   "source": [
    "A idade média foi de 25 anos. Vamos criar um histograma e analisar a distribuição da variável idade."
   ]
  },
  {
   "cell_type": "code",
   "execution_count": 6,
   "metadata": {},
   "outputs": [
    {
     "data": {
      "text/plain": [
       "<matplotlib.axes._subplots.AxesSubplot at 0x1be11d69788>"
      ]
     },
     "execution_count": 6,
     "metadata": {},
     "output_type": "execute_result"
    },
    {
     "data": {
      "image/png": "[encoded data removed]",
      "text/plain": [
       "<Figure size 432x288 with 1 Axes>"
      ]
     },
     "metadata": {
      "needs_background": "light"
     },
     "output_type": "display_data"
    }
   ],
   "source": [
    "# Histograma\n",
    "df_nba['Age'].hist()"
   ]
  },
  {
   "cell_type": "code",
   "execution_count": 7,
   "metadata": {},
   "outputs": [
    {
     "data": {
      "image/png": "[encoded data removed]",
      "text/plain": [
       "<Figure size 432x288 with 1 Axes>"
      ]
     },
     "metadata": {
      "needs_background": "light"
     },
     "output_type": "display_data"
    }
   ],
   "source": [
    "# BoxPlot\n",
    "ax = sns.boxplot(x = df_nba['Age'], palette = \"Set2\", orient = \"h\")\n",
    "plt.ylabel('\\nAtletas')\n",
    "plt.xlabel('\\nIdade')\n",
    "plt.show()"
   ]
  },
  {
   "cell_type": "markdown",
   "metadata": {},
   "source": [
    "Claramente a idade média dos atletas é de 25 anos. E perceba que temos alguns outliers. Será que a variável idade segue uma distribuição normal? Vamos checar."
   ]
  },
  {
   "cell_type": "code",
   "execution_count": 8,
   "metadata": {},
   "outputs": [
    {
     "data": {
      "text/html": [
       "<div>\n",
       "<style scoped>\n",
       "    .dataframe tbody tr th:only-of-type {\n",
       "        vertical-align: middle;\n",
       "    }\n",
       "\n",
       "    .dataframe tbody tr th {\n",
       "        vertical-align: top;\n",
       "    }\n",
       "\n",
       "    .dataframe thead th {\n",
       "        text-align: right;\n",
       "    }\n",
       "</style>\n",
       "<table border=\"1\" class=\"dataframe\">\n",
       "  <thead>\n",
       "    <tr style=\"text-align: right;\">\n",
       "      <th></th>\n",
       "      <th>W</th>\n",
       "      <th>pval</th>\n",
       "      <th>normal</th>\n",
       "    </tr>\n",
       "  </thead>\n",
       "  <tbody>\n",
       "    <tr>\n",
       "      <th>Age</th>\n",
       "      <td>0.948836</td>\n",
       "      <td>1.474959e-12</td>\n",
       "      <td>False</td>\n",
       "    </tr>\n",
       "  </tbody>\n",
       "</table>\n",
       "</div>"
      ],
      "text/plain": [
       "            W          pval  normal\n",
       "Age  0.948836  1.474959e-12   False"
      ]
     },
     "execution_count": 8,
     "metadata": {},
     "output_type": "execute_result"
    }
   ],
   "source": [
    "# Teste de normalidade com Pingouin\n",
    "x = df_nba['Age']\n",
    "pg.normality(x)"
   ]
  },
  {
   "cell_type": "markdown",
   "metadata": {},
   "source": [
    "### Quais são os jogadores com maior número de pontos por jogo? Selecione os Top 10."
   ]
  },
  {
   "cell_type": "code",
   "execution_count": 9,
   "metadata": {},
   "outputs": [],
   "source": [
    "# Agrupando os dados por jogador e total de pontos\n",
    "df_nba_top10 = df_nba.groupby(['Player'])['PTS'].sum().reset_index().rename(columns = {'PTS': 'Total_Pontos'})"
   ]
  },
  {
   "cell_type": "code",
   "execution_count": 10,
   "metadata": {},
   "outputs": [],
   "source": [
    "# Retornamos os Top 10\n",
    "df_nba_top10 = df_nba_top10.nlargest(10, 'Total_Pontos')"
   ]
  },
  {
   "cell_type": "code",
   "execution_count": 11,
   "metadata": {},
   "outputs": [
    {
     "data": {
      "text/html": [
       "<div>\n",
       "<style scoped>\n",
       "    .dataframe tbody tr th:only-of-type {\n",
       "        vertical-align: middle;\n",
       "    }\n",
       "\n",
       "    .dataframe tbody tr th {\n",
       "        vertical-align: top;\n",
       "    }\n",
       "\n",
       "    .dataframe thead th {\n",
       "        text-align: right;\n",
       "    }\n",
       "</style>\n",
       "<table border=\"1\" class=\"dataframe\">\n",
       "  <thead>\n",
       "    <tr style=\"text-align: right;\">\n",
       "      <th></th>\n",
       "      <th>Player</th>\n",
       "      <th>Total_Pontos</th>\n",
       "    </tr>\n",
       "  </thead>\n",
       "  <tbody>\n",
       "    <tr>\n",
       "      <th>220</th>\n",
       "      <td>James Harden</td>\n",
       "      <td>34.3</td>\n",
       "    </tr>\n",
       "    <tr>\n",
       "      <th>42</th>\n",
       "      <td>Bradley Beal</td>\n",
       "      <td>30.5</td>\n",
       "    </tr>\n",
       "    <tr>\n",
       "      <th>91</th>\n",
       "      <td>Damian Lillard</td>\n",
       "      <td>30.0</td>\n",
       "    </tr>\n",
       "    <tr>\n",
       "      <th>488</th>\n",
       "      <td>Trae Young</td>\n",
       "      <td>29.6</td>\n",
       "    </tr>\n",
       "    <tr>\n",
       "      <th>178</th>\n",
       "      <td>Giannis Antetokounmpo</td>\n",
       "      <td>29.5</td>\n",
       "    </tr>\n",
       "    <tr>\n",
       "      <th>334</th>\n",
       "      <td>Luka Dončić</td>\n",
       "      <td>28.8</td>\n",
       "    </tr>\n",
       "    <tr>\n",
       "      <th>320</th>\n",
       "      <td>Kyrie Irving</td>\n",
       "      <td>27.4</td>\n",
       "    </tr>\n",
       "    <tr>\n",
       "      <th>438</th>\n",
       "      <td>Russell Westbrook</td>\n",
       "      <td>27.2</td>\n",
       "    </tr>\n",
       "    <tr>\n",
       "      <th>289</th>\n",
       "      <td>Kawhi Leonard</td>\n",
       "      <td>27.1</td>\n",
       "    </tr>\n",
       "    <tr>\n",
       "      <th>125</th>\n",
       "      <td>Devin Booker</td>\n",
       "      <td>26.6</td>\n",
       "    </tr>\n",
       "  </tbody>\n",
       "</table>\n",
       "</div>"
      ],
      "text/plain": [
       "                    Player  Total_Pontos\n",
       "220           James Harden          34.3\n",
       "42            Bradley Beal          30.5\n",
       "91          Damian Lillard          30.0\n",
       "488             Trae Young          29.6\n",
       "178  Giannis Antetokounmpo          29.5\n",
       "334            Luka Dončić          28.8\n",
       "320           Kyrie Irving          27.4\n",
       "438      Russell Westbrook          27.2\n",
       "289          Kawhi Leonard          27.1\n",
       "125           Devin Booker          26.6"
      ]
     },
     "execution_count": 11,
     "metadata": {},
     "output_type": "execute_result"
    }
   ],
   "source": [
    "# Visualiza os dados\n",
    "df_nba_top10"
   ]
  },
  {
   "cell_type": "markdown",
   "metadata": {},
   "source": [
    "### Quantos jogos os jogadores com 35 anos de idade ou mais iniciaram (variável GS)?"
   ]
  },
  {
   "cell_type": "code",
   "execution_count": 12,
   "metadata": {},
   "outputs": [],
   "source": [
    "# Função\n",
    "def lista_jogadores35():\n",
    "    print('\\nJogadores com 35 ou mais anos de idade e jogos disputados.\\n')\n",
    "    print('Jogador:          | Jogos:')\n",
    "    print('------------------+--------')\n",
    "    for index, row in df_nba.iterrows():\n",
    "        if row['Age'] >= 35:\n",
    "            print('{:<17} | {:>6}'.format(row['Player'], row['GS']))"
   ]
  },
  {
   "cell_type": "code",
   "execution_count": 13,
   "metadata": {},
   "outputs": [
    {
     "name": "stdout",
     "output_type": "stream",
     "text": [
      "\n",
      "Jogadores com 35 ou mais anos de idade e jogos disputados.\n",
      "\n",
      "Jogador:          | Jogos:\n",
      "------------------+--------\n",
      "Carmelo Anthony   |     58\n",
      "J.J. Barea        |      6\n",
      "Vince Carter      |      0\n",
      "Tyson Chandler    |      5\n",
      "Jamal Crawford    |      0\n",
      "Marc Gasol        |     43\n",
      "Udonis Haslem     |      1\n",
      "Andre Iguodala    |      0\n",
      "LeBron James      |     67\n",
      "Kyle Korver       |      1\n",
      "J.J. Redick       |     36\n",
      "Thabo Sefolosha   |      0\n"
     ]
    }
   ],
   "source": [
    "# Executa a função\n",
    "lista_jogadores35()"
   ]
  },
  {
   "cell_type": "markdown",
   "metadata": {},
   "source": [
    "### Gráfico que mostra a relação entre rebotes ofensivos e minutos jogados. \n",
    "\n",
    "O que podemos concluir a partir do gráfico?"
   ]
  },
  {
   "cell_type": "code",
   "execution_count": 14,
   "metadata": {},
   "outputs": [],
   "source": [
    "# Função\n",
    "def gera_grafico_reb_ofensivos():\n",
    "    plt.figure(figsize = [10,10])\n",
    "    sns.set()\n",
    "    sns.regplot(x = df_nba['MP'], y = df_nba['ORB'], color = '#AA2F2F', marker = '+')\n",
    "    plt.xlabel('\\nMinutos Jogados (por jogo)\\n', fontsize = 14, color = 'black')\n",
    "    plt.ylabel('\\nRebotes Ofensivos (por jogo)\\n', fontsize = 14, color = 'black')\n",
    "    plt.title('\\nMinutos Jogados x Rebotes Ofensivos\\n', fontsize = 20)\n",
    "    plt.show()"
   ]
  },
  {
   "cell_type": "code",
   "execution_count": 15,
   "metadata": {},
   "outputs": [
    {
     "data": {
      "image/png": "[encoded data removed]",
      "text/plain": [
       "<Figure size 720x720 with 1 Axes>"
      ]
     },
     "metadata": {
      "needs_background": "light"
     },
     "output_type": "display_data"
    }
   ],
   "source": [
    "# Executa a função\n",
    "gera_grafico_reb_ofensivos()"
   ]
  },
  {
   "cell_type": "markdown",
   "metadata": {},
   "source": [
    "Aumenta a dispersão dos dados à media que aumenta o número de minutos jogados. Ou seja, com os jogadores mais cansados ao final do jogo é mais difícil fazer rebotes ofensivos."
   ]
  },
  {
   "cell_type": "markdown",
   "metadata": {},
   "source": [
    "### Gráfico que mostra a relação entre rebotes defensivos e minutos jogados. \n",
    "\n",
    "O que podemos concluir a partir do gráfico?"
   ]
  },
  {
   "cell_type": "code",
   "execution_count": 16,
   "metadata": {},
   "outputs": [],
   "source": [
    "# Função\n",
    "def gera_grafico_reb_defensivos():\n",
    "    plt.figure(figsize = [10,10])\n",
    "    sns.set()\n",
    "    sns.regplot(x = df_nba['MP'], y = df_nba['DRB'], color = '#F244AA', marker = '*')\n",
    "    plt.xlabel('\\nMinutos Jogados (por jogo)\\n', fontsize = 14, color = 'black')\n",
    "    plt.ylabel('\\nRebotes Defensivos (por jogo)\\n', fontsize = 14, color = 'black')\n",
    "    plt.title('\\nMinutos Jogados x Rebotes Defensivos\\n', fontsize = 20)\n",
    "    plt.show()"
   ]
  },
  {
   "cell_type": "code",
   "execution_count": 17,
   "metadata": {},
   "outputs": [
    {
     "data": {
      "image/png": "[encoded data removed]",
      "text/plain": [
       "<Figure size 720x720 with 1 Axes>"
      ]
     },
     "metadata": {},
     "output_type": "display_data"
    }
   ],
   "source": [
    "# Executa a função\n",
    "gera_grafico_reb_defensivos()"
   ]
  },
  {
   "cell_type": "markdown",
   "metadata": {},
   "source": [
    "O comportamento dos rebotes desensivos segue um padrão diferente dos rebotes ofensivos. Mais ao final do jogo, as equipes itensificam suas defesas e consequentemente aumenta o número de rebotes defensivos."
   ]
  },
  {
   "cell_type": "markdown",
   "metadata": {},
   "source": [
    "A abundância de dados disponíveis na NBA permite realizar uma infinidade de análises de todos os tipos, sendo o scrap inicial um ponto de partida para uma infinidade de novas análises."
   ]
  }
 ],
 "metadata": {
  "kernelspec": {
   "display_name": "Python 3",
   "language": "python",
   "name": "python3"
  },
  "language_info": {
   "codemirror_mode": {
    "name": "ipython",
    "version": 3
   },
   "file_extension": ".py",
   "mimetype": "text/x-python",
   "name": "python",
   "nbconvert_exporter": "python",
   "pygments_lexer": "ipython3",
   "version": "3.7.6"
  }
 },
 "nbformat": 4,
 "nbformat_minor": 4
}
